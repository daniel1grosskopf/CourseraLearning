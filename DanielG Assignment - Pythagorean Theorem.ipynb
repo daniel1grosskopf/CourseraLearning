{
  "metadata": {
    "language_info": {
      "codemirror_mode": {
        "name": "python",
        "version": 3
      },
      "file_extension": ".py",
      "mimetype": "text/x-python",
      "name": "python",
      "nbconvert_exporter": "python",
      "pygments_lexer": "ipython3",
      "version": "3.8"
    },
    "kernelspec": {
      "name": "python",
      "display_name": "Pyolite",
      "language": "python"
    }
  },
  "nbformat_minor": 4,
  "nbformat": 4,
  "cells": [
    {
      "cell_type": "markdown",
      "source": "# My Jupyter Notebook on IBM Watson Studio",
      "metadata": {}
    },
    {
      "cell_type": "markdown",
      "source": "**Daniel Grosskopf**\nData Analyst",
      "metadata": {}
    },
    {
      "cell_type": "markdown",
      "source": "_I'm interested in data science as my new position at my company requires an in depth understanding of how to organize, process, and analyze data.  I'm want to learn how to utilize Python and other tools to better be able to synthesize critical information from large data sets._",
      "metadata": {}
    },
    {
      "cell_type": "markdown",
      "source": "### Find the length of a right triangle's hypotenuse from the other two sides (a and b)",
      "metadata": {}
    },
    {
      "cell_type": "code",
      "source": "import math\n\n#Parameters of the sides\na = 3\nb = 4\n\nc = (a**2 +b**2)**.5\nprint(c)",
      "metadata": {
        "trusted": true
      },
      "execution_count": 15,
      "outputs": [
        {
          "name": "stdout",
          "text": "5.0\n",
          "output_type": "stream"
        }
      ]
    },
    {
      "cell_type": "markdown",
      "source": "The Pythagorean Theorum allows you to find the length of any side of a right triangle if you know the other two sides.  The 3 sides of the triangle can be defined as follows:\n1. Side \"a\" is one side directly connected to the right angle.\n1. Side \"b\" is the other side directly connected to the right angle.\n1. Side \"c\" is the diagnonal side opposite the right angle, also known as the hypotenuse.\n\nGiven these sides, the theorem equation is as follows:\na^2 + b^2 = c^2\n\nBelow is shown a Python code snippet for this theorem when solved for each side:\n- Solved for c\n```python\nc = (a**2 + b**2)**.5\n```\n- Solved for a\n```python\na = (c**2 - b**2)**.5\n```\n- Solved for b\n```python\nb = (c**2 - a**2)**.5\n```\n***\n\nFurther information regarding the Pythagorean Theorem can be found in this __[wikipedia article](https://en.wikipedia.org/wiki/Pythagorean_theorem)__.",
      "metadata": {}
    },
    {
      "cell_type": "code",
      "source": "",
      "metadata": {},
      "execution_count": null,
      "outputs": []
    }
  ]
}